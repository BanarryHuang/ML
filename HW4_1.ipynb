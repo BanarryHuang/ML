{
  "nbformat": 4,
  "nbformat_minor": 0,
  "metadata": {
    "colab": {
      "name": "HW4-1.ipynb",
      "provenance": [],
      "collapsed_sections": [
        "MZyX3o9p_7OI"
      ]
    },
    "kernelspec": {
      "name": "python3",
      "display_name": "Python 3"
    },
    "language_info": {
      "name": "python"
    }
  },
  "cells": [
    {
      "cell_type": "code",
      "metadata": {
        "id": "JxmwIWsyiFRW"
      },
      "source": [
        "import numpy as np\n",
        "import math as ma\n",
        "import matplotlib.pyplot as plt \n",
        "import os\n",
        "import random as rd"
      ],
      "execution_count": 33,
      "outputs": []
    },
    {
      "cell_type": "code",
      "metadata": {
        "id": "iKLqSv4iPPxJ"
      },
      "source": [
        "def UGDG(m,v):\n",
        "    x=0\n",
        "    for i in range(12):\n",
        "        x+=rd.uniform(0,1)\n",
        "    x-=6 # standard normal distribution N(0,1)\n",
        "    x=m+x*ma.sqrt(v) # from N(0,1) to N(m,v)\n",
        "    return x"
      ],
      "execution_count": 34,
      "outputs": []
    },
    {
      "cell_type": "markdown",
      "metadata": {
        "id": "MZyX3o9p_7OI"
      },
      "source": [
        "# Matrix_inverse"
      ]
    },
    {
      "cell_type": "code",
      "metadata": {
        "id": "XvHjm4ffcvXd"
      },
      "source": [
        "# LU decomposition\n",
        "def LU(A,n):\n",
        "    L=np.zeros((n,n))\n",
        "    U=np.identity(n) # Diagonal of U is all 1\n",
        "    for i in range(0,n): # First column of L is A's\n",
        "        L[i][0]=A[i][0]\n",
        "    for j in range(1,n): # From assumption, we can obtain the first row of U\n",
        "        U[0][j]=A[0][j]/L[0][0]\n",
        "    for i in range(1,n):\n",
        "        for j in range(1,i+1): # We can use the terms we have known to find other terms.\n",
        "            s=0\n",
        "            for k in range(0,j):\n",
        "                s+=L[i][k]*U[k][j]\n",
        "            L[i][j]=A[i][j]-s\n",
        "        for j in range(i+1,n):\n",
        "            s=0\n",
        "            for k in range(0,j):\n",
        "                s+=L[i][k]*U[k][j]\n",
        "            U[i][j]=(A[i][j]-s)/L[i][i]\n",
        "    return L,U,L@U"
      ],
      "execution_count": 35,
      "outputs": []
    },
    {
      "cell_type": "code",
      "metadata": {
        "id": "dTzBRW_S_IJS"
      },
      "source": [
        "def lin_eq(L,U,b,n): # LUx=b\n",
        "    y=np.zeros((n,1)) # Ly=b, solve y\n",
        "    x=np.zeros((n,1)) # Ux=y, solve x\n",
        "    for i in range(0,n):\n",
        "        s=0\n",
        "        for j in range(0,i):\n",
        "            s+=L[i][j]*y[j][0]\n",
        "        y[i][0]=(b[i][0]-s)/L[i][i]\n",
        "    for i in range(0,n):\n",
        "        r=n-1\n",
        "        s=0\n",
        "        for j in range(0,i):\n",
        "            s+=U[r-i][r-j]*x[r-j][0]\n",
        "        x[r-i][0]=(y[r-i][0]-s)/U[r-i][r-i]\n",
        "    return x"
      ],
      "execution_count": 36,
      "outputs": []
    },
    {
      "cell_type": "code",
      "metadata": {
        "id": "e9gF9Hbx5j9J"
      },
      "source": [
        "def Matrix_inverse(A,n):\n",
        "    L,U,X=LU(A,n)\n",
        "    A_inv=np.zeros((n,n))\n",
        "    for i in range(0,n): # Use Ax=e_i for all i=1~n to obtain A^-1\n",
        "        b=np.zeros((n,1))\n",
        "        b[i][0]=1\n",
        "        x=lin_eq(L,U,b,n)\n",
        "        for j in range(0,n):\n",
        "            A_inv[j][i]=x[j][0]\n",
        "    return A_inv"
      ],
      "execution_count": 37,
      "outputs": []
    },
    {
      "cell_type": "markdown",
      "metadata": {
        "id": "QcPEDeXdXa3q"
      },
      "source": [
        "#Logistic regression"
      ]
    },
    {
      "cell_type": "code",
      "metadata": {
        "id": "ZggGEKCf6rOK",
        "colab": {
          "base_uri": "https://localhost:8080/"
        },
        "outputId": "c50f9f1a-60e1-4f95-b8ba-d2be10249310"
      },
      "source": [
        "N=int(input('The number of data:'))\n",
        "mx1,vx1=int(input('Parameter mean of x1:')),int(input('Parameter variance of x1:'))\n",
        "my1,vy1=int(input('Parameter mean of y1:')),int(input('Parameter variance of y1:'))\n",
        "mx2,vx2=int(input('Parameter mean of x2:')),int(input('Parameter variance of x2:'))\n",
        "my2,vy2=int(input('Parameter mean of y2:')),int(input('Parameter variance of y2:'))"
      ],
      "execution_count": 46,
      "outputs": [
        {
          "name": "stdout",
          "output_type": "stream",
          "text": [
            "The number of data:50\n",
            "Parameter mean of x1:1\n",
            "Parameter variance of x1:2\n",
            "Parameter mean of y1:1\n",
            "Parameter variance of y1:2\n",
            "Parameter mean of x2:3\n",
            "Parameter variance of x2:4\n",
            "Parameter mean of y2:3\n",
            "Parameter variance of y2:4\n"
          ]
        }
      ]
    },
    {
      "cell_type": "code",
      "metadata": {
        "id": "lV_t_feTTPYm"
      },
      "source": [
        "D1x=np.zeros((N,1))\n",
        "D1y=np.zeros((N,1))\n",
        "D2x=np.zeros((N,1))\n",
        "D2y=np.zeros((N,1))\n",
        "for i in range(N):\n",
        "    D1x[i][0]=UGDG(mx1,vx1)\n",
        "    D1y[i][0]=UGDG(my1,vy1)\n",
        "    D2x[i][0]=UGDG(mx2,vx2)\n",
        "    D2y[i][0]=UGDG(my2,vy2)"
      ],
      "execution_count": 47,
      "outputs": []
    },
    {
      "cell_type": "code",
      "metadata": {
        "id": "uOc63WI3091b"
      },
      "source": [
        "def Cluster(w):\n",
        "    f=A@w\n",
        "    R=[]\n",
        "    B=[]\n",
        "    for j in range(2*N):\n",
        "        if -f[j][0]<100:\n",
        "            if 1/(1+np.exp(-f[j][0]))>0.5:\n",
        "                R.append(int(j))\n",
        "            else:\n",
        "                B.append(int(j))\n",
        "        else:\n",
        "            B.append(int(j))\n",
        "    RX=np.zeros(len(R))\n",
        "    RY=np.zeros(len(R))\n",
        "    for i in range(len(R)):\n",
        "        RX[i]=A[R[i]][1]\n",
        "        RY[i]=A[R[i]][2]\n",
        "    BX=np.zeros(len(B))\n",
        "    BY=np.zeros(len(B))\n",
        "    for i in range(len(B)):\n",
        "        BX[i]=A[B[i]][1]\n",
        "        BY[i]=A[B[i]][2]\n",
        "    return R,B,RX,RY,BX,BY"
      ],
      "execution_count": 48,
      "outputs": []
    },
    {
      "cell_type": "code",
      "metadata": {
        "id": "qqixeEF0UPpt"
      },
      "source": [
        "def ans(w,R,B):\n",
        "    T1=0\n",
        "    T2=0\n",
        "    for i in range(N):\n",
        "        if R.count(i)>0:\n",
        "            T1+=1\n",
        "    for i in range(N):\n",
        "        if B.count(i+N)>0:\n",
        "            T2+=1\n",
        "    print('w:')\n",
        "    for i in range(3):\n",
        "        print(w[i][0])\n",
        "    print()\n",
        "    print('Confusion Matrix:')\n",
        "    print('             Predict cluster 1    Predict cluster 2')\n",
        "    print('Is cluster 1         %2.d                   %2.d'%(T1,N-T1))\n",
        "    print('Is cluster 2         %2.d                   %2.d'%(N-T2,T2))\n",
        "    print()\n",
        "    print('Sensitivity (Successfully predict cluster 1):',T1/N)\n",
        "    print('Specificity (Successfully predict cluster 2):',T2/N)"
      ],
      "execution_count": 49,
      "outputs": []
    },
    {
      "cell_type": "code",
      "metadata": {
        "id": "VSe9PxOdQ8MW"
      },
      "source": [
        "def print_graph(X1,Y1,X2,Y2):\n",
        "    plt.scatter(X1,Y1,c='r')\n",
        "    plt.scatter(X2,Y2,c='b')"
      ],
      "execution_count": 50,
      "outputs": []
    },
    {
      "cell_type": "code",
      "metadata": {
        "id": "x3ruJNcropMZ"
      },
      "source": [
        "w1=np.zeros((3,1))\n",
        "Y=np.zeros((2*N,1))\n",
        "A=np.zeros((2*N,3))\n",
        "for i in range(N):\n",
        "    Y[i][0]=1\n",
        "for i in range(2*N):\n",
        "    A[i][0]=1\n",
        "    if i<N:\n",
        "        A[i][1]=D1x[i][0]\n",
        "        A[i][2]=D1y[i][0]\n",
        "    else:\n",
        "        A[i][1]=D2x[i-N][0]\n",
        "        A[i][2]=D2y[i-N][0]\n",
        "t=0\n",
        "lamb=1/3 # learning rate\n",
        "while 1:\n",
        "    t+=1\n",
        "    w1_old=np.copy(w1)\n",
        "    f=A@w1\n",
        "    g=np.zeros((2*N,1))\n",
        "    for j in range(2*N):\n",
        "        if -f[j][0]>100: # Too big -> overflow see as 1/inf=0\n",
        "            g[j][0]=-Y[j][0]\n",
        "        else:\n",
        "            g[j][0]=1/(1+np.exp(-f[j][0]))-Y[j][0]\n",
        "    w1-=lamb*A.transpose()@g # Gradient descent method\n",
        "    error=abs(w1_old.sum()-w1.sum())\n",
        "    if error<10**-3 or t>=50:\n",
        "        break\n",
        "R1,B1,R1X,R1Y,B1X,B1Y=Cluster(w1)"
      ],
      "execution_count": 60,
      "outputs": []
    },
    {
      "cell_type": "code",
      "metadata": {
        "id": "m_SgKg829Vhq"
      },
      "source": [
        "w2=np.zeros((3,1))\n",
        "t=0\n",
        "while 1:\n",
        "    t+=1\n",
        "    w2_old=np.copy(w2)\n",
        "    f=A@w2\n",
        "    g=np.zeros((2*N,1))\n",
        "    for j in range(2*N):\n",
        "        if -f[j][0]>100: # Too big -> overflow see as 1/inf=0\n",
        "            g[j][0]=-Y[j][0]\n",
        "        else:\n",
        "            g[j][0]=1/(1+np.exp(-f[j][0]))-Y[j][0]\n",
        "    D=np.zeros((2*N,2*N))\n",
        "    for j in range(2*N):\n",
        "        x=0\n",
        "        for k in range(3):\n",
        "            x+=A[j][k]*w2[k][0]\n",
        "        x=1+np.exp(-x)\n",
        "        D[j][j]=(1/x)/(1-1/x)\n",
        "    H=A.transpose()@D@A\n",
        "    w2-=Matrix_inverse(H,3)@A.transpose()@g # Newton's method\n",
        "    error=abs(w2_old.sum()-w2.sum())\n",
        "    if error<10**-3 or t>=50:\n",
        "        break\n",
        "R2,B2,R2X,R2Y,B2X,B2Y=Cluster(w2)"
      ],
      "execution_count": 52,
      "outputs": []
    },
    {
      "cell_type": "code",
      "metadata": {
        "colab": {
          "base_uri": "https://localhost:8080/",
          "height": 1000
        },
        "id": "fkzuEftVI2st",
        "outputId": "b181eb46-98e3-4e54-d765-965f69391919"
      },
      "source": [
        "print('Gradient descent:')\n",
        "print()\n",
        "ans(w1,R1,B1)\n",
        "print('---------------------------------------------------------------')\n",
        "print('Newton\\'s method:')\n",
        "print()\n",
        "ans(w2,R2,B2)\n",
        "print()\n",
        "plt.figure(figsize=(12,8))\n",
        "plt.subplot(131)\n",
        "plt.title('Ground truth')\n",
        "print_graph(D1x,D1y,D2x,D2y)\n",
        "plt.subplot(132)\n",
        "plt.title('Gradient descent')\n",
        "print_graph(R1X,R1Y,B1X,B1Y)\n",
        "plt.subplot(133)\n",
        "plt.title('Newton\\'s method')\n",
        "print_graph(R2X,R2Y,B2X,B2Y)"
      ],
      "execution_count": 61,
      "outputs": [
        {
          "output_type": "stream",
          "name": "stdout",
          "text": [
            "Gradient descent:\n",
            "\n",
            "w:\n",
            "48.152959493351375\n",
            "-2.956807966948798\n",
            "-12.52666897911821\n",
            "\n",
            "Confusion Matrix:\n",
            "             Predict cluster 1    Predict cluster 2\n",
            "Is cluster 1         48                    2\n",
            "Is cluster 2         25                   25\n",
            "\n",
            "Sensitivity (Successfully predict cluster 1): 0.96\n",
            "Specificity (Successfully predict cluster 2): 0.5\n",
            "---------------------------------------------------------------\n",
            "Newton's method:\n",
            "\n",
            "w:\n",
            "1.9647504837558265\n",
            "-0.40789832675165044\n",
            "-0.6986574697530903\n",
            "\n",
            "Confusion Matrix:\n",
            "             Predict cluster 1    Predict cluster 2\n",
            "Is cluster 1         40                   10\n",
            "Is cluster 2          6                   44\n",
            "\n",
            "Sensitivity (Successfully predict cluster 1): 0.8\n",
            "Specificity (Successfully predict cluster 2): 0.88\n",
            "\n"
          ]
        },
        {
          "output_type": "display_data",
          "data": {
            "image/png": "[encoded data removed]",
            "text/plain": [
              "<Figure size 864x576 with 3 Axes>"
            ]
          },
          "metadata": {
            "needs_background": "light"
          }
        }
      ]
    }
  ]
}