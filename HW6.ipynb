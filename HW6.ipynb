{
  "nbformat": 4,
  "nbformat_minor": 0,
  "metadata": {
    "colab": {
      "name": "HW6.ipynb",
      "provenance": [],
      "collapsed_sections": [
        "dkOtQmbShT1d"
      ]
    },
    "kernelspec": {
      "name": "python3",
      "display_name": "Python 3"
    },
    "language_info": {
      "name": "python"
    }
  },
  "cells": [
    {
      "cell_type": "code",
      "metadata": {
        "id": "JxmwIWsyiFRW"
      },
      "source": [
        "import numpy as np\n",
        "import cv2\n",
        "import matplotlib.pyplot as plt \n",
        "import scipy.spatial.distance as dis\n",
        "import random as rd\n",
        "import imageio"
      ],
      "execution_count": null,
      "outputs": []
    },
    {
      "cell_type": "code",
      "metadata": {
        "id": "HFMaJj_Z9pkr"
      },
      "source": [
        "def kernel(S,C,gamma1,gamma2):\n",
        "    '''\n",
        "    Impletation of kernel\n",
        "    S: (n,2)-array, spatial information of data\n",
        "    C: (n,3)-array, color information of data\n",
        "    gamma1, gamma2: parameters\n",
        "    return a (n,n)-array\n",
        "    ''' \n",
        "    RBFS=dis.squareform(np.exp(-gamma1*dis.pdist(S,'sqeuclidean')))\n",
        "    RBFC=dis.squareform(np.exp(-gamma2*dis.pdist(C,'sqeuclidean')))\n",
        "    return RBFS*RBFC+np.identity(np.size(S,0))"
      ],
      "execution_count": null,
      "outputs": []
    },
    {
      "cell_type": "code",
      "metadata": {
        "id": "hvB8b_ADPsp5"
      },
      "source": [
        "img1=cv2.imread('image1.png')\n",
        "img2=cv2.imread('image2.png')\n",
        "# spatial information (x_1,x_2)\n",
        "X=np.zeros((10000,2))\n",
        "for i in range(10000):\n",
        "    X[i][0]=i//100+1\n",
        "    X[i][1]=i%100+1\n",
        "# color information (y_1,y_2,y_3)\n",
        "Y1=img1.reshape((10000,3))\n",
        "Y2=img2.reshape((10000,3))\n",
        "# kernel kmeans\n",
        "K1=kernel(X,Y1,0.001,0.001)\n",
        "K2=kernel(X,Y2,0.001,0.001)"
      ],
      "execution_count": null,
      "outputs": []
    },
    {
      "cell_type": "markdown",
      "source": [
        "# Initialization of kmeans"
      ],
      "metadata": {
        "id": "3d9aIH9ahLnp"
      }
    },
    {
      "cell_type": "markdown",
      "source": [
        "Randomized"
      ],
      "metadata": {
        "id": "01Mu7lMSkpz5"
      }
    },
    {
      "cell_type": "code",
      "source": [
        "def init_list1(k):\n",
        "    '''\n",
        "    k: number of clusters\n",
        "    return the list containing index of k centers\n",
        "    '''\n",
        "    list1=[]\n",
        "    for i in range(k):\n",
        "        x=rd.randint(0,9999)\n",
        "        list1.append(x)\n",
        "    return list1"
      ],
      "metadata": {
        "id": "3qfUcYpzUNqz"
      },
      "execution_count": null,
      "outputs": []
    },
    {
      "cell_type": "markdown",
      "source": [
        "kmeans++"
      ],
      "metadata": {
        "id": "KtZXWbR1hP5H"
      }
    },
    {
      "cell_type": "code",
      "source": [
        "def init_list2(Mat,k):\n",
        "    '''\n",
        "    Mat: (n,n)-array, weight of all pairs of data\n",
        "    k: number of clusters\n",
        "    return the list containing index of k centers\n",
        "    '''\n",
        "    list1=[]\n",
        "    weight=np.zeros(10000)\n",
        "    j=rd.randint(0,9999)\n",
        "    list1.append(j)\n",
        "    weight+=Mat[j]\n",
        "    for i in range(k-1):\n",
        "        prob=np.cumsum(weight/np.sum(weight))\n",
        "        x=rd.random()\n",
        "        for j in range(10000):\n",
        "            if x<prob[j]:\n",
        "                list1.append(j)\n",
        "                break\n",
        "        dis=np.zeros((2,10000))\n",
        "        dis[0]=weight\n",
        "        dis[1]=Mat[j]\n",
        "        weight=np.min(dis,axis=0)\n",
        "    return list1"
      ],
      "metadata": {
        "id": "hFkTvs8chXep"
      },
      "execution_count": null,
      "outputs": []
    },
    {
      "cell_type": "markdown",
      "source": [
        "# kmeans clustering"
      ],
      "metadata": {
        "id": "7xzIxfHWhCrN"
      }
    },
    {
      "cell_type": "code",
      "source": [
        "def clustering(list1,K,k):\n",
        "    '''\n",
        "    list1: initial centers of every cluster\n",
        "    K: kernel function\n",
        "    k: number of clusters\n",
        "    return (n,)-array, the index of data\n",
        "    '''\n",
        "    cluster=np.zeros((100,100))\n",
        "    alpha=np.zeros((k,10000))\n",
        "    for i in range(k):\n",
        "        alpha[i][list1[i]]=1\n",
        "    for t in range(10):\n",
        "        dist=np.ones((10000,k))\n",
        "        mean=np.zeros(k)\n",
        "        for i in range(k):\n",
        "            mean[i]=1/np.sum(alpha[i])**2*np.sum(np.outer(alpha[i],alpha[i])*K)\n",
        "        for i in range(10000):\n",
        "            for j in range(k):\n",
        "                dist[i,j]-=2/np.sum(alpha[j])*np.sum(alpha[j]*K[i])\n",
        "                dist[i,j]+=mean[j]        \n",
        "        for i in range(10000):\n",
        "            ind=np.argmin(dist[i])\n",
        "            cluster[i//100][i%100]=ind\n",
        "            for j in range(k):\n",
        "                alpha[j][i]=0\n",
        "            alpha[ind][i]=1\n",
        "        plt.imsave('new_'+str(t)+'.png',cluster)\n",
        "    # Gif\n",
        "    imagelist=[]\n",
        "    for i in range(10):\n",
        "        imagelist.append('new_'+str(i)+'.png')\n",
        "    with imageio.get_writer('newgif.gif', mode='I') as writer:\n",
        "        for filename in imagelist:\n",
        "            image = imageio.imread(filename)\n",
        "            writer.append_data(image)\n",
        "    return cluster.reshape(1,-1)"
      ],
      "metadata": {
        "id": "vd2LB5wDW7u2"
      },
      "execution_count": null,
      "outputs": []
    },
    {
      "cell_type": "markdown",
      "source": [
        "# kmeans clustering (test)"
      ],
      "metadata": {
        "id": "dkOtQmbShT1d"
      }
    },
    {
      "cell_type": "code",
      "source": [
        "kmeans2=init_list2(np.log(1/K1),2)\n",
        "clustering(kmeans2,K1,2)"
      ],
      "metadata": {
        "id": "AJbXh5aJ6OCC"
      },
      "execution_count": null,
      "outputs": []
    },
    {
      "cell_type": "code",
      "source": [
        "kmeans3=init_list2(np.log(1/K1),3)\n",
        "clustering(kmeans3,K1,3)"
      ],
      "metadata": {
        "id": "FqJWrgbP61s8"
      },
      "execution_count": null,
      "outputs": []
    },
    {
      "cell_type": "code",
      "source": [
        "kmeans4=init_list2(np.log(1/K1),4)\n",
        "clustering(kmeans4,K1,4)"
      ],
      "metadata": {
        "id": "IlJXIf5j62SO"
      },
      "execution_count": null,
      "outputs": []
    },
    {
      "cell_type": "code",
      "source": [
        "kmeans2=init_list2(np.log(1/K2),2)\n",
        "clustering(kmeans2,K2,2)"
      ],
      "metadata": {
        "id": "V4MCo2i1k1C2"
      },
      "execution_count": null,
      "outputs": []
    },
    {
      "cell_type": "code",
      "source": [
        "kmeans3=init_list2(np.log(1/K2),3)\n",
        "clustering(kmeans3,K2,3)"
      ],
      "metadata": {
        "id": "ktyx4oA6k1dG"
      },
      "execution_count": null,
      "outputs": []
    },
    {
      "cell_type": "code",
      "source": [
        "kmeans4=init_list2(np.log(1/K2),4)\n",
        "clustering(kmeans4,K2,4)"
      ],
      "metadata": {
        "id": "2--CxLHok137"
      },
      "execution_count": null,
      "outputs": []
    },
    {
      "cell_type": "markdown",
      "source": [
        "# Spectral clustering"
      ],
      "metadata": {
        "id": "Tevl6p_shYzl"
      }
    },
    {
      "cell_type": "markdown",
      "source": [
        "Normalized cut"
      ],
      "metadata": {
        "id": "ZmmD-fnThll-"
      }
    },
    {
      "cell_type": "code",
      "source": [
        "def normal_cut(K):\n",
        "    '''\n",
        "    K: kernel of data\n",
        "    return (n)-array, eigenvalue and (n,n)-array, eigenvector\n",
        "    '''\n",
        "    D=np.diag(np.sum(K,axis=1))\n",
        "    L=D-K\n",
        "    D_inverse_square_root=np.diag(1/np.diag(np.sqrt(D)))\n",
        "    L_sym=D_inverse_square_root@L@D_inverse_square_root\n",
        "    eigenvalue,eigenvector=np.linalg.eigh(L_sym)\n",
        "    return eigenvalue,eigenvector"
      ],
      "metadata": {
        "id": "MxLJhDTtmHNO"
      },
      "execution_count": null,
      "outputs": []
    },
    {
      "cell_type": "markdown",
      "source": [
        "Ratio cut"
      ],
      "metadata": {
        "id": "j2S-aImChrp9"
      }
    },
    {
      "cell_type": "code",
      "source": [
        "def ratio_cut(K):\n",
        "    '''\n",
        "    K: kernel of data\n",
        "    return (n)-array, eigenvalue and (n,n)-array, eigenvector\n",
        "    '''\n",
        "    D=np.diag(np.sum(K,axis=1))\n",
        "    L=D-K\n",
        "    eigenvalue,eigenvector=np.linalg.eigh(L)\n",
        "    return eigenvalue,eigenvector"
      ],
      "metadata": {
        "id": "_QCr8M9aArWd"
      },
      "execution_count": null,
      "outputs": []
    },
    {
      "cell_type": "markdown",
      "source": [
        "# Spectral clustering (test)"
      ],
      "metadata": {
        "id": "QDZ4AiTNpsUO"
      }
    },
    {
      "cell_type": "code",
      "source": [
        "eigenvaluen1,eigenvectorn1=normal_cut(K1)\n",
        "sort_indexn1=np.argsort(eigenvaluen1)"
      ],
      "metadata": {
        "id": "HH9ssLdrgTmu"
      },
      "execution_count": null,
      "outputs": []
    },
    {
      "cell_type": "code",
      "source": [
        "k=2\n",
        "T=eigenvectorn1[:,sort_indexn1[1:k+1]]\n",
        "sums=np.sqrt(np.sum(np.square(T),axis=1)).reshape(-1,1)\n",
        "H=T/sums\n",
        "Hdist=dis.squareform(dis.pdist(H,'sqeuclidean'))\n",
        "normal=init_list2(Hdist,k)\n",
        "A1=clustering(normal,H@H.T,k)"
      ],
      "metadata": {
        "id": "HDb3ucHs-HGn"
      },
      "execution_count": null,
      "outputs": []
    },
    {
      "cell_type": "code",
      "source": [
        "eigenvaluen2,eigenvectorn2=normal_cut(K2)\n",
        "sort_indexn2=np.argsort(eigenvaluen2)"
      ],
      "metadata": {
        "id": "vJyF-KFyq46z"
      },
      "execution_count": null,
      "outputs": []
    },
    {
      "cell_type": "code",
      "source": [
        "k=2\n",
        "T=eigenvectorn2[:,sort_indexn2[1:k+1]]\n",
        "sums=np.sqrt(np.sum(np.square(T),axis=1)).reshape(-1,1)\n",
        "H=T/sums\n",
        "Hdist=dis.squareform(dis.pdist(H,'sqeuclidean'))\n",
        "normal=init_list2(Hdist,k)\n",
        "A2=clustering(normal,H@H.T,k)"
      ],
      "metadata": {
        "id": "u3KXfrGyuGPc"
      },
      "execution_count": null,
      "outputs": []
    },
    {
      "cell_type": "code",
      "source": [
        "eigenvaluer1,eigenvectorr1=ratio_cut(K1)\n",
        "sort_indexr1=np.argsort(eigenvaluer1)"
      ],
      "metadata": {
        "id": "_3iHVqcOgi3j"
      },
      "execution_count": null,
      "outputs": []
    },
    {
      "cell_type": "code",
      "source": [
        "k=2\n",
        "H=eigenvectorr1[:,sort_indexr1[1:k+1]]\n",
        "Hdist=dis.squareform(dis.pdist(H,'sqeuclidean'))\n",
        "ratio=init_list2(Hdist,k)\n",
        "A3=clustering(ratio,H@H.T,k)"
      ],
      "metadata": {
        "id": "tEE_NkPbDG_G"
      },
      "execution_count": null,
      "outputs": []
    },
    {
      "cell_type": "code",
      "source": [
        "eigenvaluer2,eigenvectorr2=ratio_cut(K2)\n",
        "sort_indexr2=np.argsort(eigenvaluer2)"
      ],
      "metadata": {
        "id": "4j96jz3tv9QD"
      },
      "execution_count": null,
      "outputs": []
    },
    {
      "cell_type": "code",
      "source": [
        "k=2\n",
        "H=eigenvectorr2[:,sort_indexr2[1:k+1]]\n",
        "Hdist=dis.squareform(dis.pdist(H,'sqeuclidean'))\n",
        "ratio=init_list2(Hdist,k)\n",
        "A4=clustering(ratio,H@H.T,k)"
      ],
      "metadata": {
        "id": "DENi1OnFX_xP"
      },
      "execution_count": null,
      "outputs": []
    },
    {
      "cell_type": "markdown",
      "source": [
        "# Part 4"
      ],
      "metadata": {
        "id": "IgLxNfo9kZSY"
      }
    },
    {
      "cell_type": "code",
      "source": [
        "def plot_eigenspace(x_axis,y_axis,class_cluster):\n",
        "    plt.figure()\n",
        "    colors=['purple','orange']\n",
        "    for colors,i in zip(colors,np.arange(2)):\n",
        "        plt.scatter(x_axis[class_cluster==i],y_axis[class_cluster==i],c=colors,s=3)\n",
        "    plt.xlabel('$1^{st}$ Eigenvector')\n",
        "    plt.ylabel('$2^{nd}$ Eigenvector')\n",
        "    plt.show()"
      ],
      "metadata": {
        "id": "SDCi-QUSjqVr"
      },
      "execution_count": null,
      "outputs": []
    },
    {
      "cell_type": "code",
      "source": [
        "x_a=T[:,0]\n",
        "y_a=T[:,1]\n",
        "plot_eigenspace(x_a.reshape(1,-1),y_a.reshape(1,-1),A1.astype(int))"
      ],
      "metadata": {
        "id": "PEWsPvGix63U"
      },
      "execution_count": null,
      "outputs": []
    },
    {
      "cell_type": "code",
      "source": [
        "x_a=H[:,0]\n",
        "y_a=H[:,1]\n",
        "plot_eigenspace(x_a.reshape(1,-1),y_a.reshape(1,-1),A2.astype(int))"
      ],
      "metadata": {
        "id": "2foLXDgl0xvH"
      },
      "execution_count": null,
      "outputs": []
    },
    {
      "cell_type": "code",
      "source": [
        "x_a=H[:,0]\n",
        "y_a=H[:,1]\n",
        "plot_eigenspace(x_a.reshape(1,-1),y_a.reshape(1,-1),A3.astype(int))"
      ],
      "metadata": {
        "id": "CldsWdOvqKKX"
      },
      "execution_count": null,
      "outputs": []
    },
    {
      "cell_type": "code",
      "source": [
        "x_a=H[:,0]\n",
        "y_a=H[:,1]\n",
        "plot_eigenspace(x_a.reshape(1,-1),y_a.reshape(1,-1),A4.astype(int))"
      ],
      "metadata": {
        "id": "6wXGhCm8sbs3"
      },
      "execution_count": null,
      "outputs": []
    }
  ]
}