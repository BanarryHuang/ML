{
  "nbformat": 4,
  "nbformat_minor": 0,
  "metadata": {
    "colab": {
      "name": "HW2-1.ipynb",
      "provenance": [],
      "collapsed_sections": []
    },
    "kernelspec": {
      "name": "python3",
      "display_name": "Python 3"
    },
    "language_info": {
      "name": "python"
    }
  },
  "cells": [
    {
      "cell_type": "code",
      "metadata": {
        "id": "JxmwIWsyiFRW"
      },
      "source": [
        "import numpy as np\n",
        "import math as ma\n",
        "import os"
      ],
      "execution_count": null,
      "outputs": []
    },
    {
      "cell_type": "code",
      "metadata": {
        "id": "EJB9iezZ3K5k"
      },
      "source": [
        "def handle_with_mnist(x_file,y_file):\n",
        "    x_file.read(4) # magic number\n",
        "    image=int.from_bytes(x_file.read(4),byteorder='big') # number of images\n",
        "    row=int.from_bytes(x_file.read(4),byteorder='big') # number of rows\n",
        "    col=int.from_bytes(x_file.read(4),byteorder='big') # number of columns\n",
        "    y_file.read(8) # magic number & number of images\n",
        "    x=np.zeros((image,row*col),dtype='uint8')\n",
        "    y=np.zeros(image,dtype='uint8')\n",
        "    for i in range(image):\n",
        "        for j in range(row*col):\n",
        "            x[i][j]=int.from_bytes(x_file.read(1),byteorder='big') # all pixels of an image with 0~255\n",
        "        y[i]=int.from_bytes(y_file.read(1),byteorder='big') # 0~9\n",
        "    return x,y"
      ],
      "execution_count": null,
      "outputs": []
    },
    {
      "cell_type": "code",
      "metadata": {
        "id": "doaC4BzoipQZ"
      },
      "source": [
        "def Mnist():\n",
        "    train_x_file=open('train-images.idx3-ubyte','rb')\n",
        "    train_y_file=open('train-labels.idx1-ubyte','rb')\n",
        "    test_x_file=open('t10k-images.idx3-ubyte','rb')\n",
        "    test_y_file=open('t10k-labels.idx1-ubyte','rb')\n",
        "    train_x,train_y=handle_with_mnist(train_x_file,train_y_file)\n",
        "    test_x,test_y=handle_with_mnist(test_x_file,test_y_file)\n",
        "    return (train_x,train_y),(test_x,test_y)"
      ],
      "execution_count": null,
      "outputs": []
    },
    {
      "cell_type": "code",
      "metadata": {
        "id": "g-Biis0H45rF"
      },
      "source": [
        "(train_x,train_y),(test_x,test_y)=Mnist()"
      ],
      "execution_count": null,
      "outputs": []
    },
    {
      "cell_type": "code",
      "metadata": {
        "id": "3UFgCCsG9rEO"
      },
      "source": [
        "# Discrete version\n",
        "fre_n=np.zeros((10,784,32))\n",
        "num_train=np.zeros(10)\n",
        "# 256 levels into 32 bins of levels\n",
        "for i in range(60000):\n",
        "    num_train[train_y[i]]+=1\n",
        "    for j in range(784):\n",
        "        fre_n[train_y[i]][j][train_x[i][j]//8]+=1"
      ],
      "execution_count": null,
      "outputs": []
    },
    {
      "cell_type": "code",
      "metadata": {
        "id": "W-elb3Au18OV"
      },
      "source": [
        "# Continuous version\n",
        "mean=np.zeros((10,784))\n",
        "var=np.zeros((10,784))\n",
        "for i in range(60000):\n",
        "    for j in range(784):\n",
        "        mean[train_y[i]][j]+=train_x[i][j]\n",
        "for i in range(10):\n",
        "    mean[i]/=num_train[i]\n",
        "for i in range(60000):\n",
        "    for j in range(784):\n",
        "        var[train_y[i]][j]+=(train_x[i][j]-mean[train_y[i]][j])**2\n",
        "for i in range(10):\n",
        "    var[i]/=num_train[i]"
      ],
      "execution_count": null,
      "outputs": []
    },
    {
      "cell_type": "code",
      "metadata": {
        "id": "GPAM5ev5xJyu"
      },
      "source": [
        "def Gaussian(x,m,v):\n",
        "    if v!=0:\n",
        "        return ma.exp(-(x-m)**2/(2*v))/ma.sqrt(2*ma.pi*v)\n",
        "    else: # all value is equal\n",
        "        return m"
      ],
      "execution_count": null,
      "outputs": []
    },
    {
      "cell_type": "code",
      "metadata": {
        "id": "Ur7_mikWTUfv"
      },
      "source": [
        "def print_post(posterior):\n",
        "    print('Postirior (in log scale):',file=f)\n",
        "    for i in range(10):\n",
        "        print(i,end=':',file=f)\n",
        "        print(posterior[i]/posterior.sum(),file=f)"
      ],
      "execution_count": null,
      "outputs": []
    },
    {
      "cell_type": "code",
      "metadata": {
        "id": "l3IxLKEGCL15"
      },
      "source": [
        "def Ima_num(mode):\n",
        "    print('Imagination of numbers in Bayesian classifier:',file=f)\n",
        "    for i in range(10):\n",
        "        print(file=f)\n",
        "        print(i,end=':',file=f)\n",
        "        print(file=f)\n",
        "        ima_n=np.zeros((28,28))\n",
        "        for j in range(784):\n",
        "            if mode==0: # Discrete version\n",
        "                for k in range(32):\n",
        "                    if fre_n[i][j][k]==fre_n[i][j].max():\n",
        "                        if k>=15:\n",
        "                            ima_n[j//28][j%28]=1\n",
        "                        break\n",
        "            if mode==1: # Continuous version\n",
        "                if mean[i][j]>=128:\n",
        "                    ima_n[j//28][j%28]=1\n",
        "        for j in range(28):\n",
        "            for k in range(28):\n",
        "                print(int(ima_n[j][k]),end='',file=f)\n",
        "            print(file=f)"
      ],
      "execution_count": null,
      "outputs": []
    },
    {
      "cell_type": "code",
      "metadata": {
        "id": "QJhMYdxRCEon"
      },
      "source": [
        "# Pixels are independent\n",
        "def Model(mode):\n",
        "    wrong=0\n",
        "    for image in range(10000):\n",
        "        posterior=np.zeros(10)\n",
        "        for i in range(10):\n",
        "            prior=ma.log(num_train[i])\n",
        "            likelihood=0\n",
        "            for j in range(784):\n",
        "                p=-ma.log(num_train[i])\n",
        "                if mode==0: # Discrete version\n",
        "                    level=test_x[image][j]//8\n",
        "                    if fre_n[i][j][level]!=0:\n",
        "                        p+=ma.log(fre_n[i][j][level])\n",
        "                if mode==1: # Continuous version\n",
        "                    x=Gaussian(test_x[image][j],mean[i][j],var[i][j])\n",
        "                    if x>0:\n",
        "                        p+=ma.log(x)\n",
        "                likelihood+=p\n",
        "            posterior[i]=prior+likelihood\n",
        "        print_post(posterior)\n",
        "        for i in range(10):\n",
        "            if posterior[i]==posterior.max():\n",
        "                guess=i\n",
        "                break\n",
        "        print('Prediction:',guess,'Ans:',test_y[image],file=f)\n",
        "        if guess!=test_y[image]:\n",
        "            wrong+=1\n",
        "        print(file=f)\n",
        "    Ima_num(mode)\n",
        "    print('Error rate:',wrong/10000,file=f)\n",
        "    f.close()"
      ],
      "execution_count": null,
      "outputs": []
    },
    {
      "cell_type": "code",
      "metadata": {
        "id": "9G1BJ_Q4g6dA"
      },
      "source": [
        "path='output.txt'\n",
        "f=open(path,'w')"
      ],
      "execution_count": null,
      "outputs": []
    },
    {
      "cell_type": "code",
      "metadata": {
        "id": "hmSIIv2NJP7R"
      },
      "source": [
        "Model(0)"
      ],
      "execution_count": null,
      "outputs": []
    },
    {
      "cell_type": "code",
      "metadata": {
        "id": "BxcgicF-NGnV"
      },
      "source": [
        "Model(1)"
      ],
      "execution_count": null,
      "outputs": []
    }
  ]
}