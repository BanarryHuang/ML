{
  "nbformat": 4,
  "nbformat_minor": 0,
  "metadata": {
    "colab": {
      "name": "HW2-2.ipynb",
      "provenance": []
    },
    "kernelspec": {
      "name": "python3",
      "display_name": "Python 3"
    },
    "language_info": {
      "name": "python"
    }
  },
  "cells": [
    {
      "cell_type": "code",
      "metadata": {
        "id": "JxmwIWsyiFRW"
      },
      "source": [
        "import numpy as np\n",
        "import math as ma\n",
        "import os"
      ],
      "execution_count": null,
      "outputs": []
    },
    {
      "cell_type": "code",
      "metadata": {
        "id": "wWmyQY__WyJS"
      },
      "source": [
        "def B(a,b):\n",
        "    return ma.gamma(a+b)/ma.gamma(a)/ma.gamma(b)"
      ],
      "execution_count": null,
      "outputs": []
    },
    {
      "cell_type": "code",
      "metadata": {
        "id": "rUwREntKWWp9"
      },
      "source": [
        "def Beta(x,a,b): # Beta distribution\n",
        "    return x**(a-1)*(1-x)**(b-1)/B(a,b)"
      ],
      "execution_count": null,
      "outputs": []
    },
    {
      "cell_type": "code",
      "metadata": {
        "id": "kEhSceAJY398"
      },
      "source": [
        "def Binom(x,y): # x chooses y\n",
        "    return ma.factorial(x)/ma.factorial(y)/ma.factorial(x-y)"
      ],
      "execution_count": null,
      "outputs": []
    },
    {
      "cell_type": "code",
      "metadata": {
        "id": "gxQeKqFGZV3X"
      },
      "source": [
        "def Binomial(p,N,m): # Binomial distribution\n",
        "    return Binom(N,m)*p**m*(1-p)**(N-m)"
      ],
      "execution_count": null,
      "outputs": []
    },
    {
      "cell_type": "code",
      "metadata": {
        "id": "xDNaZxPBsKxQ",
        "colab": {
          "base_uri": "https://localhost:8080/"
        },
        "outputId": "2e59287e-1991-4753-8033-bd7ff6fe6d81"
      },
      "source": [
        "t=0\n",
        "a=int(input('Parameter a for the initial beta prior:'))\n",
        "b=int(input('Parameter b for the initial beta prior:'))\n",
        "f=open('textfile.txt','r',encoding='utf-8')\n",
        "line=f.readline()\n",
        "while line:\n",
        "    t+=1\n",
        "    N=line.count('0')+line.count('1')\n",
        "    m=line.count('1')\n",
        "    if len(line)>N:\n",
        "        print('Case',t,':',line[:-2])\n",
        "    else:\n",
        "        print('Case',t,':',line)\n",
        "    print('Likelihood:',Binomial(m/N,N,m))\n",
        "    print('Beta prior:    a =',a,'b =',b) # Beta(a,b)\n",
        "    a+=m\n",
        "    b+=N-m\n",
        "    print('Beta posterior:a =',a,'b =',b) # Beta(m+a,N-m+b)\n",
        "    print('')\n",
        "    line=f.readline()"
      ],
      "execution_count": null,
      "outputs": [
        {
          "output_type": "stream",
          "name": "stdout",
          "text": [
            "Parameter a for the initial beta prior:10\n",
            "Parameter b for the initial beta prior:1\n",
            "Case 1 : 010101010100101101010\n",
            "Likelihood: 0.16818809509277344\n",
            "Beta prior:    a = 10 b = 1\n",
            "Beta posterior:a = 21 b = 12\n",
            "\n",
            "Case 2 : 011010\n",
            "Likelihood: 0.29375515303997485\n",
            "Beta prior:    a = 21 b = 12\n",
            "Beta posterior:a = 25 b = 15\n",
            "\n",
            "Case 3 : 01011010110\n",
            "Likelihood: 0.2286054241794335\n",
            "Beta prior:    a = 25 b = 15\n",
            "Beta posterior:a = 32 b = 20\n",
            "\n",
            "Case 4 : 010110101110101101\n",
            "Likelihood: 0.18286870706509092\n",
            "Beta prior:    a = 32 b = 20\n",
            "Beta posterior:a = 43 b = 28\n",
            "\n",
            "Case 5 : 11110110001111\n",
            "Likelihood: 0.2143070548857833\n",
            "Beta prior:    a = 43 b = 28\n",
            "Beta posterior:a = 53 b = 33\n",
            "\n",
            "Case 6 : 10111011100011\n",
            "Likelihood: 0.20659760529408\n",
            "Beta prior:    a = 53 b = 33\n",
            "Beta posterior:a = 62 b = 39\n",
            "\n",
            "Case 7 : 101001011\n",
            "Likelihood: 0.25082265600000003\n",
            "Beta prior:    a = 62 b = 39\n",
            "Beta posterior:a = 68 b = 43\n",
            "\n",
            "Case 8 : 1110111011\n",
            "Likelihood: 0.2619678932864457\n",
            "Beta prior:    a = 68 b = 43\n",
            "Beta posterior:a = 76 b = 46\n",
            "\n",
            "Case 9 : 0100011110\n",
            "Likelihood: 0.23609128871506807\n",
            "Beta prior:    a = 76 b = 46\n",
            "Beta posterior:a = 82 b = 51\n",
            "\n",
            "Case 10 : 11010011\n",
            "Likelihood: 0.27312909617436365\n",
            "Beta prior:    a = 82 b = 51\n",
            "Beta posterior:a = 88 b = 54\n",
            "\n",
            "Case 11 : 01101010111\n",
            "Likelihood: 0.24384881449471862\n",
            "Beta prior:    a = 88 b = 54\n",
            "Beta posterior:a = 95 b = 58\n",
            "\n"
          ]
        }
      ]
    }
  ]
}