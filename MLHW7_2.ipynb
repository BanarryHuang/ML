{
  "nbformat": 4,
  "nbformat_minor": 0,
  "metadata": {
    "colab": {
      "name": "MLHW7-2.ipynb",
      "provenance": [],
      "collapsed_sections": []
    },
    "kernelspec": {
      "name": "python3",
      "display_name": "Python 3"
    },
    "language_info": {
      "name": "python"
    }
  },
  "cells": [
    {
      "cell_type": "code",
      "source": [
        "#\n",
        "#  tsne.py\n",
        "#\n",
        "# Implementation of t-SNE in Python. The implementation was tested on Python\n",
        "# 2.7.10, and it requires a working installation of NumPy. The implementation\n",
        "# comes with an example on the MNIST dataset. In order to plot the\n",
        "# results of this example, a working installation of matplotlib is required.\n",
        "#\n",
        "# The example can be run by executing: `ipython tsne.py`\n",
        "#\n",
        "#\n",
        "#  Created by Laurens van der Maaten on 20-12-08.\n",
        "#  Copyright (c) 2008 Tilburg University. All rights reserved."
      ],
      "metadata": {
        "id": "_4x2QoEqBG3E"
      },
      "execution_count": 12,
      "outputs": []
    },
    {
      "cell_type": "code",
      "source": [
        "import numpy as np\n",
        "import imageio\n",
        "import matplotlib.pyplot as plt"
      ],
      "metadata": {
        "id": "_F2vJmfdbn4Z"
      },
      "execution_count": 1,
      "outputs": []
    },
    {
      "cell_type": "code",
      "execution_count": 2,
      "metadata": {
        "id": "JNoq0dNqYIk-"
      },
      "outputs": [],
      "source": [
        "def Hbeta(D=np.array([]), beta=1.0):\n",
        "    \"\"\"\n",
        "        Compute the perplexity and the P-row for a specific value of the\n",
        "        precision of a Gaussian distribution.\n",
        "    \"\"\"\n",
        "\n",
        "    # Compute P-row and corresponding perplexity\n",
        "    P = np.exp(-D.copy() * beta)\n",
        "    sumP = sum(P)\n",
        "    H = np.log(sumP) + beta * np.sum(D * P) / sumP\n",
        "    P = P / sumP\n",
        "    return H, P\n",
        "\n",
        "def x2p(X=np.array([]), tol=1e-5, perplexity=30.0):\n",
        "    \"\"\"\n",
        "        Performs a binary search to get P-values in such a way that each\n",
        "        conditional Gaussian has the same perplexity.\n",
        "    \"\"\"\n",
        "\n",
        "    # Initialize some variables\n",
        "    print(\"Computing pairwise distances...\")\n",
        "    (n, d) = X.shape\n",
        "    sum_X = np.sum(np.square(X), 1)\n",
        "    D = np.add(np.add(-2 * np.dot(X, X.T), sum_X).T, sum_X)\n",
        "    P = np.zeros((n, n))\n",
        "    beta = np.ones((n, 1))\n",
        "    logU = np.log(perplexity)\n",
        "\n",
        "    # Loop over all datapoints\n",
        "    for i in range(n):\n",
        "\n",
        "        # Print progress\n",
        "        if i % 500 == 0:\n",
        "            print(\"Computing P-values for point %d of %d...\" % (i, n))\n",
        "\n",
        "        # Compute the Gaussian kernel and entropy for the current precision\n",
        "        betamin = -np.inf\n",
        "        betamax = np.inf\n",
        "        Di = D[i, np.concatenate((np.r_[0:i], np.r_[i+1:n]))]\n",
        "        (H, thisP) = Hbeta(Di, beta[i])\n",
        "\n",
        "        # Evaluate whether the perplexity is within tolerance\n",
        "        Hdiff = H - logU\n",
        "        tries = 0\n",
        "        while np.abs(Hdiff) > tol and tries < 50:\n",
        "\n",
        "            # If not, increase or decrease precision\n",
        "            if Hdiff > 0:\n",
        "                betamin = beta[i].copy()\n",
        "                if betamax == np.inf or betamax == -np.inf:\n",
        "                    beta[i] = beta[i] * 2.\n",
        "                else:\n",
        "                    beta[i] = (beta[i] + betamax) / 2.\n",
        "            else:\n",
        "                betamax = beta[i].copy()\n",
        "                if betamin == np.inf or betamin == -np.inf:\n",
        "                    beta[i] = beta[i] / 2.\n",
        "                else:\n",
        "                    beta[i] = (beta[i] + betamin) / 2.\n",
        "\n",
        "            # Recompute the values\n",
        "            (H, thisP) = Hbeta(Di, beta[i])\n",
        "            Hdiff = H - logU\n",
        "            tries += 1\n",
        "\n",
        "        # Set the final row of P\n",
        "        P[i, np.concatenate((np.r_[0:i], np.r_[i+1:n]))] = thisP\n",
        "\n",
        "    # Return final P-matrix\n",
        "    print(\"Mean value of sigma: %f\" % np.mean(np.sqrt(1 / beta)))\n",
        "    return P\n",
        "\n",
        "\n",
        "def pca(X=np.array([]), no_dims=50):\n",
        "    \"\"\"\n",
        "        Runs PCA on the NxD array X in order to reduce its dimensionality to\n",
        "        no_dims dimensions.\n",
        "    \"\"\"\n",
        "\n",
        "    print(\"Preprocessing the data using PCA...\")\n",
        "    (n, d) = X.shape\n",
        "    X = X - np.tile(np.mean(X, 0), (n, 1))\n",
        "    (l, M) = np.linalg.eig(np.dot(X.T, X))\n",
        "    Y = np.dot(X, M[:, 0:no_dims])\n",
        "    return Y"
      ]
    },
    {
      "cell_type": "code",
      "source": [
        "def tsne(X=np.array([]), no_dims=2, initial_dims=50, perplexity=30.0):\n",
        "    \"\"\"\n",
        "        Runs t-SNE on the dataset in the NxD array X to reduce its\n",
        "        dimensionality to no_dims dimensions. The syntaxis of the function is\n",
        "        `Y = tsne.tsne(X, no_dims, perplexity), where X is an NxD NumPy array.\n",
        "    \"\"\"\n",
        "\n",
        "    # Check inputs\n",
        "    if isinstance(no_dims, float):\n",
        "        print(\"Error: array X should have type float.\")\n",
        "        return -1\n",
        "    if round(no_dims) != no_dims:\n",
        "        print(\"Error: number of dimensions should be an integer.\")\n",
        "        return -1\n",
        "\n",
        "    # Initialize variables\n",
        "    X = pca(X, initial_dims).real\n",
        "    (n, d) = X.shape\n",
        "    max_iter = 400\n",
        "    initial_momentum = 0.5\n",
        "    final_momentum = 0.8\n",
        "    eta = 500\n",
        "    min_gain = 0.01\n",
        "    Y = np.random.randn(n, no_dims)\n",
        "    dY = np.zeros((n, no_dims))\n",
        "    iY = np.zeros((n, no_dims))\n",
        "    gains = np.ones((n, no_dims))\n",
        "\n",
        "    # Compute P-values\n",
        "    P = x2p(X, 1e-5, perplexity)\n",
        "    P = P + np.transpose(P)\n",
        "    P = P / np.sum(P)\n",
        "    P = P * 4.\t\t\t\t\t\t\t\t\t# early exaggeration\n",
        "    P = np.maximum(P, 1e-12)\n",
        "\n",
        "    # Run iterations\n",
        "    for iter in range(max_iter):\n",
        "\n",
        "        # Compute pairwise affinities\n",
        "        sum_Y = np.sum(np.square(Y), 1)\n",
        "        num = -2. * np.dot(Y, Y.T)\n",
        "        num = 1. / (1. + np.add(np.add(num, sum_Y).T, sum_Y))\n",
        "        num[range(n), range(n)] = 0.\n",
        "        Q = num / np.sum(num)\n",
        "        Q = np.maximum(Q, 1e-12)\n",
        "\n",
        "        # Compute gradient\n",
        "        PQ = P - Q\n",
        "        for i in range(n):\n",
        "            dY[i, :] = np.sum(np.tile(PQ[:, i] * num[:, i], (no_dims, 1)).T * (Y[i, :] - Y), 0)\n",
        "\n",
        "        # Perform the update\n",
        "        if iter < 20:\n",
        "            momentum = initial_momentum\n",
        "        else:\n",
        "            momentum = final_momentum\n",
        "        gains = (gains + 0.2) * ((dY > 0.) != (iY > 0.)) + \\\n",
        "                (gains * 0.8) * ((dY > 0.) == (iY > 0.))\n",
        "        gains[gains < min_gain] = min_gain\n",
        "        iY = momentum * iY - eta * (gains * dY)\n",
        "        Y = Y + iY\n",
        "        Y = Y - np.tile(np.mean(Y, 0), (n, 1))\n",
        "\n",
        "        # Compute current value of cost function\n",
        "        if (iter + 1) % 10 == 0:\n",
        "            C = np.sum(P * np.log(P / Q))\n",
        "            print(\"Iteration %d: error is %f\" % (iter + 1, C))\n",
        "            '''\n",
        "            plt.scatter(Y[:, 0], Y[:, 1], 20, labels)\n",
        "            plt.savefig('new_'+str((iter + 1) // 10)+'.png')\n",
        "            plt.clf()'''\n",
        "\n",
        "        # Stop lying about P-values\n",
        "        if iter == 100:\n",
        "            P = P / 4.\n",
        "    plot_similarity(P,Q)\n",
        "    # Return solution\n",
        "    return Y"
      ],
      "metadata": {
        "id": "_aHiSn_jYYBR"
      },
      "execution_count": 3,
      "outputs": []
    },
    {
      "cell_type": "code",
      "source": [
        "if __name__ == \"__main__\":\n",
        "    print(\"Run Y = tsne.tsne(X, no_dims, perplexity) to perform t-SNE on your dataset.\")\n",
        "    print(\"Running example on 2,500 MNIST digits...\")\n",
        "    X = np.loadtxt(\"mnist2500_X.txt\")\n",
        "    labels = np.loadtxt(\"mnist2500_labels.txt\")\n",
        "    Y = tsne(X, 2, 50, 20)"
      ],
      "metadata": {
        "id": "AOxRpTmnb7He",
        "colab": {
          "base_uri": "https://localhost:8080/",
          "height": 1000
        },
        "outputId": "8581ff95-1a04-4aea-cd34-fc6e6e2cf16f"
      },
      "execution_count": 10,
      "outputs": [
        {
          "output_type": "stream",
          "name": "stdout",
          "text": [
            "Run Y = tsne.tsne(X, no_dims, perplexity) to perform t-SNE on your dataset.\n",
            "Running example on 2,500 MNIST digits...\n",
            "Preprocessing the data using PCA...\n",
            "Computing pairwise distances...\n",
            "Computing P-values for point 0 of 2500...\n",
            "Computing P-values for point 500 of 2500...\n",
            "Computing P-values for point 1000 of 2500...\n",
            "Computing P-values for point 1500 of 2500...\n",
            "Computing P-values for point 2000 of 2500...\n",
            "Mean value of sigma: 2.386597\n",
            "Iteration 10: error is 23.574703\n",
            "Iteration 20: error is 20.961688\n",
            "Iteration 30: error is 17.858774\n",
            "Iteration 40: error is 16.685072\n",
            "Iteration 50: error is 16.373639\n",
            "Iteration 60: error is 16.222536\n",
            "Iteration 70: error is 16.134448\n",
            "Iteration 80: error is 16.066864\n",
            "Iteration 90: error is 16.004621\n",
            "Iteration 100: error is 15.955189\n",
            "Iteration 110: error is 2.307818\n",
            "Iteration 120: error is 2.084960\n",
            "Iteration 130: error is 1.906521\n",
            "Iteration 140: error is 1.768115\n",
            "Iteration 150: error is 1.660705\n",
            "Iteration 160: error is 1.576384\n",
            "Iteration 170: error is 1.508395\n",
            "Iteration 180: error is 1.452977\n",
            "Iteration 190: error is 1.407134\n",
            "Iteration 200: error is 1.368377\n",
            "Iteration 210: error is 1.335495\n",
            "Iteration 220: error is 1.307490\n",
            "Iteration 230: error is 1.283478\n",
            "Iteration 240: error is 1.262713\n",
            "Iteration 250: error is 1.244346\n",
            "Iteration 260: error is 1.228002\n",
            "Iteration 270: error is 1.213385\n",
            "Iteration 280: error is 1.200282\n",
            "Iteration 290: error is 1.188563\n",
            "Iteration 300: error is 1.177977\n",
            "Iteration 310: error is 1.168310\n",
            "Iteration 320: error is 1.159457\n",
            "Iteration 330: error is 1.151350\n",
            "Iteration 340: error is 1.143899\n",
            "Iteration 350: error is 1.136977\n",
            "Iteration 360: error is 1.130585\n",
            "Iteration 370: error is 1.124680\n",
            "Iteration 380: error is 1.119218\n",
            "Iteration 390: error is 1.114171\n",
            "Iteration 400: error is 1.109498\n"
          ]
        },
        {
          "output_type": "display_data",
          "data": {
            "image/png": "[encoded data removed]",
            "text/plain": [
              "<Figure size 432x288 with 2 Axes>"
            ]
          },
          "metadata": {
            "needs_background": "light"
          }
        }
      ]
    },
    {
      "cell_type": "code",
      "source": [
        "plt.scatter(Y[:, 0], Y[:, 1], 20, labels)"
      ],
      "metadata": {
        "colab": {
          "base_uri": "https://localhost:8080/",
          "height": 282
        },
        "id": "PKCvyEx-L21S",
        "outputId": "c1fdca44-24d3-43a0-818b-8f36303a4af6"
      },
      "execution_count": null,
      "outputs": [
        {
          "output_type": "execute_result",
          "data": {
            "text/plain": [
              "<matplotlib.collections.PathCollection at 0x7f4cba086b90>"
            ]
          },
          "metadata": {},
          "execution_count": 23
        },
        {
          "output_type": "display_data",
          "data": {
            "image/png": "[encoded data removed]",
            "text/plain": [
              "<Figure size 432x288 with 1 Axes>"
            ]
          },
          "metadata": {
            "needs_background": "light"
          }
        }
      ]
    },
    {
      "cell_type": "code",
      "source": [
        "def symsne(X=np.array([]), no_dims=2, initial_dims=50, perplexity=30.0):\n",
        "    \"\"\"\n",
        "        Runs symmetric SNE on the dataset in the NxD array X to reduce its\n",
        "        dimensionality to no_dims dimensions. The syntaxis of the function is\n",
        "        `Y = symsne.tsne(X, no_dims, perplexity), where X is an NxD NumPy array.\n",
        "    \"\"\"\n",
        "\n",
        "    # Check inputs\n",
        "    if isinstance(no_dims, float):\n",
        "        print(\"Error: array X should have type float.\")\n",
        "        return -1\n",
        "    if round(no_dims) != no_dims:\n",
        "        print(\"Error: number of dimensions should be an integer.\")\n",
        "        return -1\n",
        "\n",
        "    # Initialize variables\n",
        "    X = pca(X, initial_dims).real\n",
        "    (n, d) = X.shape\n",
        "    max_iter = 400\n",
        "    initial_momentum = 0.5\n",
        "    final_momentum = 0.8\n",
        "    eta = 500\n",
        "    min_gain = 0.01\n",
        "    Y = np.random.randn(n, no_dims)\n",
        "    dY = np.zeros((n, no_dims))\n",
        "    iY = np.zeros((n, no_dims))\n",
        "    gains = np.ones((n, no_dims))\n",
        "\n",
        "    # Compute P-values\n",
        "    P = x2p(X, 1e-5, perplexity)\n",
        "    P = P + np.transpose(P)\n",
        "    P = P / np.sum(P)\n",
        "    P = P * 4.\t\t\t\t\t\t\t\t\t# early exaggeration\n",
        "    P = np.maximum(P, 1e-12)\n",
        "\n",
        "    # Run iterations\n",
        "    for iter in range(max_iter):\n",
        "\n",
        "        # Compute pairwise affinities\n",
        "        sum_Y = np.sum(np.square(Y), 1)\n",
        "        num = -2. * np.dot(Y, Y.T)\n",
        "        num = np.exp(-np.add(np.add(num,sum_Y).T,sum_Y))\n",
        "        num[range(n), range(n)] = 0.\n",
        "        Q = num / np.sum(num)\n",
        "        Q = np.maximum(Q, 1e-12)\n",
        "\n",
        "        # Compute gradient\n",
        "        PQ = P - Q\n",
        "        for i in range(n):\n",
        "            dY[i, :] = np.sum(np.tile(PQ[:, i],(no_dims, 1)).T*(Y[i, :] - Y),0)\n",
        "\n",
        "        # Perform the update\n",
        "        if iter < 20:\n",
        "            momentum = initial_momentum\n",
        "        else:\n",
        "            momentum = final_momentum\n",
        "        gains = (gains + 0.2) * ((dY > 0.) != (iY > 0.)) + \\\n",
        "                (gains * 0.8) * ((dY > 0.) == (iY > 0.))\n",
        "        gains[gains < min_gain] = min_gain\n",
        "        iY = momentum * iY - eta * (gains * dY)\n",
        "        Y = Y + iY\n",
        "        Y = Y - np.tile(np.mean(Y, 0), (n, 1))\n",
        "\n",
        "        # Compute current value of cost function\n",
        "        if (iter + 1) % 10 == 0:\n",
        "            C = np.sum(P * np.log(P / Q))\n",
        "            print(\"Iteration %d: error is %f\" % (iter + 1, C))\n",
        "            '''plt.scatter(Y[:, 0], Y[:, 1], 20, labels)\n",
        "            plt.savefig('new_'+str((iter + 1) // 10)+'.png')\n",
        "            plt.clf()'''\n",
        "\n",
        "        # Stop lying about P-values\n",
        "        if iter == 100:\n",
        "            P = P / 4.\n",
        "    plot_similarity(P,Q)\n",
        "    # Return solution\n",
        "    return Y"
      ],
      "metadata": {
        "id": "z0eDuagmb_nA"
      },
      "execution_count": 4,
      "outputs": []
    },
    {
      "cell_type": "code",
      "source": [
        "if __name__ == \"__main__\":\n",
        "    print(\"Run Y = tsne.tsne(X, no_dims, perplexity) to perform t-SNE on your dataset.\")\n",
        "    print(\"Running example on 2,500 MNIST digits...\")\n",
        "    X = np.loadtxt(\"mnist2500_X.txt\")\n",
        "    labels = np.loadtxt(\"mnist2500_labels.txt\")\n",
        "    Y = symsne(X, 2, 50, 20)"
      ],
      "metadata": {
        "colab": {
          "base_uri": "https://localhost:8080/",
          "height": 1000
        },
        "outputId": "26acb42d-8884-473e-abed-5f61a51b4296",
        "id": "98GiEnlvKzbp"
      },
      "execution_count": 11,
      "outputs": [
        {
          "output_type": "stream",
          "name": "stdout",
          "text": [
            "Run Y = tsne.tsne(X, no_dims, perplexity) to perform t-SNE on your dataset.\n",
            "Running example on 2,500 MNIST digits...\n",
            "Preprocessing the data using PCA...\n",
            "Computing pairwise distances...\n",
            "Computing P-values for point 0 of 2500...\n",
            "Computing P-values for point 500 of 2500...\n",
            "Computing P-values for point 1000 of 2500...\n",
            "Computing P-values for point 1500 of 2500...\n",
            "Computing P-values for point 2000 of 2500...\n",
            "Mean value of sigma: 2.386597\n",
            "Iteration 10: error is 23.587889\n",
            "Iteration 20: error is 18.850011\n",
            "Iteration 30: error is 16.743336\n",
            "Iteration 40: error is 17.275093\n",
            "Iteration 50: error is 17.059309\n",
            "Iteration 60: error is 17.002198\n",
            "Iteration 70: error is 17.028897\n",
            "Iteration 80: error is 16.910618\n",
            "Iteration 90: error is 16.923118\n",
            "Iteration 100: error is 16.810185\n",
            "Iteration 110: error is 2.219788\n",
            "Iteration 120: error is 2.081637\n",
            "Iteration 130: error is 2.085655\n",
            "Iteration 140: error is 2.101826\n",
            "Iteration 150: error is 2.109227\n",
            "Iteration 160: error is 2.107182\n",
            "Iteration 170: error is 2.104666\n",
            "Iteration 180: error is 2.103915\n",
            "Iteration 190: error is 2.102712\n",
            "Iteration 200: error is 2.101946\n",
            "Iteration 210: error is 2.101759\n",
            "Iteration 220: error is 2.101873\n",
            "Iteration 230: error is 2.101861\n",
            "Iteration 240: error is 2.101804\n",
            "Iteration 250: error is 2.101780\n",
            "Iteration 260: error is 2.101781\n",
            "Iteration 270: error is 2.101782\n",
            "Iteration 280: error is 2.101782\n",
            "Iteration 290: error is 2.101782\n",
            "Iteration 300: error is 2.101782\n",
            "Iteration 310: error is 2.101782\n",
            "Iteration 320: error is 2.101782\n",
            "Iteration 330: error is 2.101782\n",
            "Iteration 340: error is 2.101782\n",
            "Iteration 350: error is 2.101782\n",
            "Iteration 360: error is 2.101782\n",
            "Iteration 370: error is 2.101782\n",
            "Iteration 380: error is 2.101782\n",
            "Iteration 390: error is 2.101782\n",
            "Iteration 400: error is 2.101782\n"
          ]
        },
        {
          "output_type": "display_data",
          "data": {
            "image/png": "[encoded data removed]",
            "text/plain": [
              "<Figure size 432x288 with 2 Axes>"
            ]
          },
          "metadata": {
            "needs_background": "light"
          }
        }
      ]
    },
    {
      "cell_type": "code",
      "source": [
        "# Gif (Part2)\n",
        "imagelist=[]\n",
        "for i in range(40):\n",
        "    imagelist.append('new_'+str(i)+'.png')\n",
        "with imageio.get_writer('newgif.gif', mode='I') as writer:\n",
        "    for filename in imagelist:\n",
        "        image = imageio.imread(filename)\n",
        "        writer.append_data(image)"
      ],
      "metadata": {
        "id": "9AwfLcfVFuVn"
      },
      "execution_count": null,
      "outputs": []
    },
    {
      "cell_type": "code",
      "source": [
        "# Part3\n",
        "def plot_similarity(P,Q):\n",
        "    plt.subplot(2,1,1)\n",
        "    plt.hist(P.flatten(),bins=50,color='blue',density=True,histtype='step',log=True)\n",
        "    plt.subplot(2,1,2)\n",
        "    plt.hist(Q.flatten(),bins=50,color='green',density=True,histtype='step',log=True)\n",
        "    plt.show()"
      ],
      "metadata": {
        "id": "nNe0F2JqUIc5"
      },
      "execution_count": 9,
      "outputs": []
    }
  ]
}