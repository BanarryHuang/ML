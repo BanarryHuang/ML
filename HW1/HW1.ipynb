{
  "nbformat": 4,
  "nbformat_minor": 0,
  "metadata": {
    "colab": {
      "name": "HW1.ipynb",
      "provenance": [],
      "collapsed_sections": []
    },
    "kernelspec": {
      "name": "python3",
      "display_name": "Python 3"
    },
    "language_info": {
      "name": "python"
    }
  },
  "cells": [
    {
      "cell_type": "code",
      "metadata": {
        "id": "JxmwIWsyiFRW"
      },
      "source": [
        "import numpy as np\n",
        "import math as ma\n",
        "import matplotlib.pyplot as plt \n",
        "import os"
      ],
      "execution_count": 1,
      "outputs": []
    },
    {
      "cell_type": "code",
      "metadata": {
        "id": "XvHjm4ffcvXd"
      },
      "source": [
        "# LU decomposition\n",
        "def LU(A,n):\n",
        "    L=np.zeros((n,n))\n",
        "    U=np.identity(n) # Diagonal of U is all 1\n",
        "    for i in range(0,n): # First column of L is A's\n",
        "        L[i][0]=A[i][0]\n",
        "    for j in range(1,n): # From assumption, we can obtain the first row of U\n",
        "        U[0][j]=A[0][j]/L[0][0]\n",
        "    for i in range(1,n):\n",
        "        for j in range(1,i+1): # We can use the terms we have known to find other terms.\n",
        "            s=0\n",
        "            for k in range(0,j):\n",
        "                s+=L[i][k]*U[k][j]\n",
        "            L[i][j]=A[i][j]-s\n",
        "        for j in range(i+1,n):\n",
        "            s=0\n",
        "            for k in range(0,j):\n",
        "                s+=L[i][k]*U[k][j]\n",
        "            U[i][j]=(A[i][j]-s)/L[i][i]\n",
        "    return L,U,L@U"
      ],
      "execution_count": 2,
      "outputs": []
    },
    {
      "cell_type": "code",
      "metadata": {
        "id": "3ItGTsgKfwsV"
      },
      "source": [
        "# Cholesky decomposition (positive-definite)\n",
        "def LL(A,n):\n",
        "    L=np.zeros((n,n))\n",
        "    for j in range(0,n):\n",
        "        s=0\n",
        "        for k in range(0,j):\n",
        "            s+=L[j][k]**2\n",
        "        L[j][j]=ma.sqrt(A[j][j]-s)\n",
        "        for i in range(j,n):\n",
        "            s=0\n",
        "            for k in range(0,j):\n",
        "                s+=L[i][k]*L[j][k]\n",
        "            L[i][j]=(A[i][j]-s)/L[j][j]\n",
        "    return L,L@L.transpose()"
      ],
      "execution_count": 3,
      "outputs": []
    },
    {
      "cell_type": "code",
      "metadata": {
        "id": "dTzBRW_S_IJS"
      },
      "source": [
        "def lin_eq(L,U,b,n): # LUx=b\n",
        "    y=np.zeros((n,1)) # Ly=b, solve y\n",
        "    x=np.zeros((n,1)) # Ux=y, solve x\n",
        "    for i in range(0,n):\n",
        "        s=0\n",
        "        for j in range(0,i):\n",
        "            s+=L[i][j]*y[j][0]\n",
        "        y[i][0]=(b[i][0]-s)/L[i][i]\n",
        "    for i in range(0,n):\n",
        "        r=n-1\n",
        "        s=0\n",
        "        for j in range(0,i):\n",
        "            s+=U[r-i][r-j]*x[r-j][0]\n",
        "        x[r-i][0]=(y[r-i][0]-s)/U[r-i][r-i]\n",
        "    return x"
      ],
      "execution_count": 4,
      "outputs": []
    },
    {
      "cell_type": "code",
      "metadata": {
        "id": "e9gF9Hbx5j9J"
      },
      "source": [
        "def Matrix_inverse(A,n):\n",
        "    L,U,X=LU(A,n)\n",
        "    A_inv=np.zeros((n,n))\n",
        "    for i in range(0,n): # Use Ax=e_i for all i=1~n to obtain A^-1\n",
        "        b=np.zeros((n,1))\n",
        "        b[i][0]=1\n",
        "        x=lin_eq(L,U,b,n)\n",
        "        for j in range(0,n):\n",
        "            A_inv[j][i]=x[j][0]\n",
        "    return A_inv"
      ],
      "execution_count": 5,
      "outputs": []
    },
    {
      "cell_type": "code",
      "metadata": {
        "id": "mo5nF7MEkfud"
      },
      "source": [
        "def PD_Matrix_inverse(A,n): # positive-definite\n",
        "    L,X=LL(A,n)\n",
        "    A_inv=np.zeros((n,n))\n",
        "    for i in range(0,n): # Use Ax=e_i for all i=1~n to obtain A^-1\n",
        "        b=np.zeros((n,1))\n",
        "        b[i][0]=1\n",
        "        x=lin_eq(L,L.transpose(),b,n)\n",
        "        for j in range(0,n):\n",
        "            A_inv[j][i]=x[j][0]\n",
        "    return A_inv"
      ],
      "execution_count": 6,
      "outputs": []
    },
    {
      "cell_type": "code",
      "metadata": {
        "id": "w64wCa3DYDQ7"
      },
      "source": [
        "def print_line_and_error(coef):\n",
        "    print('Fitting line:',end = '')\n",
        "    for i in range(n):\n",
        "        if i>0 and coef[i][0]>0:\n",
        "            print('+',end = '')\n",
        "        print(coef[i][0],end = '')\n",
        "        if i<n-1:\n",
        "            print('x^',end = '')\n",
        "            print(n-1-i,end = '')\n",
        "    print('')\n",
        "    Err=(A@coef-b).transpose()@(A@coef-b)\n",
        "    print('Total error:',Err[0][0])"
      ],
      "execution_count": 20,
      "outputs": []
    },
    {
      "cell_type": "code",
      "metadata": {
        "id": "aRFZSo8QVPlA"
      },
      "source": [
        "def polynomial_coefficients(x,coeffs,order):\n",
        "    y=np.zeros(len(x))\n",
        "    for i in range(order):\n",
        "        y+=coeffs[i][0]*x**(order-1-i)\n",
        "    return y"
      ],
      "execution_count": 12,
      "outputs": []
    },
    {
      "cell_type": "code",
      "metadata": {
        "id": "EInjlXqKpRvE"
      },
      "source": [
        "def print_graph(coef):\n",
        "    xs=np.linspace(x.min()-1,x.max()+1,100)\n",
        "    plt.axhline(y=0,color='k')\n",
        "    plt.axvline(x=0,color='k')\n",
        "    plt.plot(xs,polynomial_coefficients(xs,coef,n))\n",
        "    plt.scatter(x,b,color='r')\n",
        "    plt.xlim([x.min()-1,x.max()+1])\n",
        "    plt.show()"
      ],
      "execution_count": 26,
      "outputs": []
    },
    {
      "cell_type": "code",
      "metadata": {
        "id": "xDNaZxPBsKxQ",
        "colab": {
          "base_uri": "https://localhost:8080/",
          "height": 669
        },
        "outputId": "ceb0ab5b-2aa8-45bf-9b9f-7b111626585f"
      },
      "source": [
        "x=[]\n",
        "b=[]\n",
        "m=0\n",
        "f=open('textfile.txt','r',encoding='utf-8')\n",
        "line=f.readline()\n",
        "while line:\n",
        "    m+=1\n",
        "    xi,yi=line.split(',')\n",
        "    x.append(float(xi))\n",
        "    b.append(float(yi))\n",
        "    line=f.readline()\n",
        "x=np.asarray(x,dtype='float').reshape((-1,1))\n",
        "b=np.asarray(b,dtype='float').reshape((-1,1))\n",
        "n=int(input('The dimension of polynomial:'))\n",
        "lamb=int(input('Scalar of L2 norm (RLSE):'))\n",
        "A=np.zeros((m,n))\n",
        "for i in range(0,m):\n",
        "    for j in range(0,n):\n",
        "        A[i][n-1-j]=x[i][0]**j\n",
        "if lamb>0:\n",
        "    coef1=PD_Matrix_inverse(A.transpose()@A+lamb*np.identity(n),n)@A.transpose()@b # RLSE & positive-definite\n",
        "else:\n",
        "    coef1=Matrix_inverse(A.transpose()@A+lamb*np.identity(n),n)@A.transpose()@b # RLSE\n",
        "coef2=-Matrix_inverse(2*A.transpose()@A,n)@(-2*A.transpose()@b) # Newton's method\n",
        "print('LSE:')\n",
        "print_line_and_error(coef1)\n",
        "print('')\n",
        "print('Newton\\'s Method:')\n",
        "print_line_and_error(coef2)\n",
        "print_graph(coef1)\n",
        "print_graph(coef2)"
      ],
      "execution_count": 29,
      "outputs": [
        {
          "output_type": "stream",
          "name": "stdout",
          "text": [
            "The dimension of polynomial:3\n",
            "Scalar of L2 norm (RLSE):10000\n",
            "LSE:\n",
            "Fitting line:0.8345332827002858x^2+0.09314819831918822x^1+0.04695069927346927\n",
            "Total error: 22649.73849302415\n",
            "\n",
            "Newton's Method:\n",
            "Fitting line:3.0238533934865712x^2+4.906190263863798x^1-0.2314017560877098\n",
            "Total error: 26.559959499333043\n"
          ]
        },
        {
          "output_type": "display_data",
          "data": {
            "image/png": "[encoded data removed]",
            "text/plain": [
              "<Figure size 432x288 with 1 Axes>"
            ]
          },
          "metadata": {
            "needs_background": "light"
          }
        },
        {
          "output_type": "display_data",
          "data": {
            "image/png": "[encoded data removed]",
            "text/plain": [
              "<Figure size 432x288 with 1 Axes>"
            ]
          },
          "metadata": {
            "needs_background": "light"
          }
        }
      ]
    }
  ]
}